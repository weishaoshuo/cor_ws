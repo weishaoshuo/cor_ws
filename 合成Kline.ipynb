{
 "cells": [
  {
   "cell_type": "code",
   "execution_count": 1,
   "id": "28f564c4-6962-4ee7-8570-77376cf1fd60",
   "metadata": {},
   "outputs": [],
   "source": [
    "from tqdm import tqdm\n",
    "import pytdx\n",
    "from pytdx.reader import TdxDailyBarReader, TdxFileNotFoundException,CustomerBlockReader,TdxLCMinBarReader\n",
    "reader = TdxLCMinBarReader()\n",
    "from pytdx.hq import TdxHq_API\n",
    "import pandas as pd\n",
    "import datetime\n",
    "from czsc.objects import RawBar, Freq\n",
    "from czsc.kline_generator import KlineGenerator\n",
    "from czsc.io import read_pkl, save_pkl\n",
    "import shutil"
   ]
  },
  {
   "cell_type": "code",
   "execution_count": 2,
   "id": "968f5ff8-04b8-4aa2-9d58-b3e8e4bf1442",
   "metadata": {},
   "outputs": [],
   "source": [
    "def kline_merge(file_f1,file_pkl):\n",
    "    cid = file_f1[18:26]\n",
    "    df = pd.read_csv(file_f1)\n",
    "    bars = []\n",
    "    for i, row in df.iterrows():\n",
    "        bar = RawBar(symbol=cid, dt=pd.to_datetime(row['date']), id=i, freq=Freq.F1, open=row['open'],\n",
    "                     close=row['close'], high=row['high'], low=row['low'], vol=row['volume'])\n",
    "        bars.append(bar)\n",
    "    kg = KlineGenerator(max_count=100000000)\n",
    "    for bar in tqdm(bars[:50000], desc=\"merge kline\"):\n",
    "        kg.update(bar)\n",
    "    # 保存 kg 到 pkl 文件\n",
    "    save_pkl(kg, file_pkl)\n",
    "    # 获取结果\n",
    "    f1 = pd.DataFrame([x.__dict__ for x in kg.get_kline(freq='1分钟', count=10000000)])\n",
    "    f5 = pd.DataFrame([x.__dict__ for x in kg.get_kline(freq='5分钟', count=10000000)])\n",
    "    f15 = pd.DataFrame([x.__dict__ for x in kg.get_kline(freq='15分钟', count=10000000)])\n",
    "    f30 = pd.DataFrame([x.__dict__ for x in kg.get_kline(freq='30分钟', count=10000000)])\n",
    "    f60 = pd.DataFrame([x.__dict__ for x in kg.get_kline(freq='60分钟', count=10000000)])\n",
    "    d = pd.DataFrame([x.__dict__ for x in kg.get_kline(freq='日线', count=10000000)])\n",
    "    f1.to_csv(f'E:\\\\data\\\\Tdx_kline\\\\{cid}_1f.csv')\n",
    "    f5.to_csv(f'E:\\\\data\\\\Tdx_kline\\\\{cid}_5f.csv')\n",
    "    f15.to_csv(f'E:\\\\data\\\\Tdx_kline\\\\{cid}_15f.csv')\n",
    "    f30.to_csv(f'E:\\\\data\\\\Tdx_kline\\\\{cid}_30f.csv')\n",
    "    f60.to_csv(f'E:\\\\data\\\\Tdx_kline\\\\{cid}_60f.csv')\n",
    "    d.to_csv(f'E:\\\\data\\\\Tdx_kline\\\\{cid}_1d.csv')\n",
    "\n",
    "\n",
    "def kline_merge_new(file_f1,file_pkl):\n",
    "    cid = file_f1[18:26]\n",
    "    df = pd.read_csv(file_f1)\n",
    "    bars = []\n",
    "    for i, row in df.iterrows():\n",
    "        bar = RawBar(symbol=cid,dt=pd.to_datetime(row['date']), id=i, freq=Freq.F1, open=row['open'],\n",
    "                     close=row['close'], high=row['high'], low=row['low'], vol=row['volume'])\n",
    "        bars.append(bar)\n",
    "\n",
    "    # 重新加载 kg\n",
    "    kg = read_pkl(file_pkl)\n",
    "\n",
    "    for bar in tqdm(bars, desc=\"merge kline new\"):\n",
    "        if bar.dt > kg.end_dt:\n",
    "            kg.update(bar)\n",
    "\n",
    "    # 获取结果\n",
    "    f1 = pd.DataFrame([x.__dict__ for x in kg.get_kline(freq='1分钟', count=10000000)])\n",
    "    f5 = pd.DataFrame([x.__dict__ for x in kg.get_kline(freq='5分钟', count=10000000)])\n",
    "    f15 = pd.DataFrame([x.__dict__ for x in kg.get_kline(freq='15分钟', count=10000000)])\n",
    "    f30 = pd.DataFrame([x.__dict__ for x in kg.get_kline(freq='30分钟', count=10000000)])\n",
    "    f60 = pd.DataFrame([x.__dict__ for x in kg.get_kline(freq='60分钟', count=10000000)])\n",
    "    d = pd.DataFrame([x.__dict__ for x in kg.get_kline(freq='日线', count=10000000)])\n",
    "    f1.to_csv(f'E:\\\\data\\\\Tdx_kline\\\\{cid}_1f.csv')\n",
    "    f5.to_csv(f'E:\\\\data\\\\Tdx_kline\\\\{cid}_5f.csv')\n",
    "    f15.to_csv(f'E:\\\\data\\\\Tdx_kline\\\\{cid}_15f.csv')\n",
    "    f30.to_csv(f'E:\\\\data\\\\Tdx_kline\\\\{cid}_30f.csv')\n",
    "    f60.to_csv(f'E:\\\\data\\\\Tdx_kline\\\\{cid}_60f.csv')\n",
    "    d.to_csv(f'E:\\\\data\\\\Tdx_kline\\\\{cid}_1d.csv')"
   ]
  },
  {
   "cell_type": "code",
   "execution_count": 3,
   "id": "d81874a3-3697-4835-9872-a47ff820a57f",
   "metadata": {},
   "outputs": [
    {
     "name": "stderr",
     "output_type": "stream",
     "text": [
      "merge kline: 100%|█████████████████████████████████████████████████████████████| 50000/50000 [00:13<00:00, 3607.35it/s]\n"
     ]
    }
   ],
   "source": [
    "if __name__ == '__main__':\n",
    "    tdx_df = CustomerBlockReader().get_df('E:\\data\\TdxBak_20210630\\\\blocknew\\\\')\n",
    "    RPS=tdx_df[tdx_df['blockname'] == '板块指数RPS'].code.tolist()\n",
    "    for i in [RPS[0]]:\n",
    "        RPS_file = f'E:\\\\new_jytyb 纶巾羽扇 0509\\\\vipdoc\\\\sh\\\\minline\\\\sh{i}.lc1'\n",
    "        dstfile=  r'E:\\data\\test'\n",
    "        shutil.copy(RPS_file,dstfile)\n",
    "        reader.get_df(f'E:\\\\new_jytyb 纶巾羽扇 0509\\\\vipdoc\\\\sh\\\\minline\\\\sh{i}.lc1', 'rb').to_csv(f'E:\\\\data\\\\Tdx_kline\\\\sh{i}_1m.csv')\n",
    "        file_f1 = f'E:\\\\data\\\\Tdx_kline\\\\sh{i}_1m.csv'\n",
    "        file_pkl = f'E:\\\\data\\\\Tdx_kline\\\\sh{i}_1m.pkl'\n",
    "    #     kline_merge(file_f1,file_pkl)\n",
    "        kline_merge(file_f1,file_pkl)"
   ]
  },
  {
   "cell_type": "code",
   "execution_count": 8,
   "id": "339ca3f0-838b-488b-b484-26a6a8fd81da",
   "metadata": {},
   "outputs": [
    {
     "data": {
      "text/plain": [
       "'880501'"
      ]
     },
     "execution_count": 8,
     "metadata": {},
     "output_type": "execute_result"
    }
   ],
   "source": [
    "[RPS[0]]"
   ]
  },
  {
   "cell_type": "code",
   "execution_count": 9,
   "id": "cd9acee0-1e8d-4728-babe-503a751db3d4",
   "metadata": {},
   "outputs": [],
   "source": []
  },
  {
   "cell_type": "code",
   "execution_count": 10,
   "id": "68e6a2c0-d89b-46bb-8833-8fc60f0b1c29",
   "metadata": {},
   "outputs": [],
   "source": []
  },
  {
   "cell_type": "code",
   "execution_count": 13,
   "id": "b3b5f084-217b-4f47-8de2-c62a9b927b2b",
   "metadata": {},
   "outputs": [
    {
     "name": "stderr",
     "output_type": "stream",
     "text": [
      "merge kline: 100%|█████████████████████████████████████████████████████████████| 50000/50000 [00:17<00:00, 2806.57it/s]\n"
     ]
    }
   ],
   "source": []
  },
  {
   "cell_type": "code",
   "execution_count": null,
   "id": "4366d556-6e49-4490-80f5-c062d17b4783",
   "metadata": {},
   "outputs": [],
   "source": []
  }
 ],
 "metadata": {
  "kernelspec": {
   "display_name": "Python 3 (ipykernel)",
   "language": "python",
   "name": "python3"
  },
  "language_info": {
   "codemirror_mode": {
    "name": "ipython",
    "version": 3
   },
   "file_extension": ".py",
   "mimetype": "text/x-python",
   "name": "python",
   "nbconvert_exporter": "python",
   "pygments_lexer": "ipython3",
   "version": "3.11.7"
  }
 },
 "nbformat": 4,
 "nbformat_minor": 5
}
